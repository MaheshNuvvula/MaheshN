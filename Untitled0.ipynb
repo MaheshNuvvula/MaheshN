{
  "nbformat": 4,
  "nbformat_minor": 0,
  "metadata": {
    "colab": {
      "provenance": [],
      "authorship_tag": "ABX9TyNxUW2TPxnd+/6yv/ifhatP",
      "include_colab_link": true
    },
    "kernelspec": {
      "name": "python3",
      "display_name": "Python 3"
    },
    "language_info": {
      "name": "python"
    }
  },
  "cells": [
    {
      "cell_type": "markdown",
      "metadata": {
        "id": "view-in-github",
        "colab_type": "text"
      },
      "source": [
        "<a href=\"https://colab.research.google.com/github/MaheshNuvvula/MaheshN/blob/main/Untitled0.ipynb\" target=\"_parent\"><img src=\"https://colab.research.google.com/assets/colab-badge.svg\" alt=\"Open In Colab\"/></a>"
      ]
    },
    {
      "cell_type": "code",
      "source": [],
      "metadata": {
        "id": "VQAbenVllIIv"
      },
      "execution_count": null,
      "outputs": []
    },
    {
      "cell_type": "markdown",
      "source": [
        "Write a program that takes a integer from keyboard and prints a string according the business logic given below\n",
        "\n",
        "1. For each multiple of 3, Print 'Fizz',\n",
        "\n",
        "2. For each multiple of 5, Print Fuzz\n",
        "\n",
        "3. For each multiple of 3 and 5 Print 'Fizz Buzz"
      ],
      "metadata": {
        "id": "c0VTLTJhGrc1"
      }
    },
    {
      "cell_type": "code",
      "source": [
        "n=int(input('Enter an integer: '))\n",
        "if n%3==0 and n%5==0:\n",
        "    print('Fizz Buzz')\n",
        "elif n%3==0:\n",
        "    print('Fizz')\n",
        "elif n%5==0:\n",
        "    print('Fuzz')\n",
        "else:\n",
        "    print('Nothing Matches')"
      ],
      "metadata": {
        "id": "m9_nsIMytvHT",
        "colab": {
          "base_uri": "https://localhost:8080/"
        },
        "outputId": "6d5b1437-20c7-4fc8-fce6-6114371c1144"
      },
      "execution_count": 1,
      "outputs": [
        {
          "output_type": "stream",
          "name": "stdout",
          "text": [
            "Enter an integer: 15\n",
            "Fizz Buzz\n"
          ]
        }
      ]
    },
    {
      "cell_type": "code",
      "source": [],
      "metadata": {
        "id": "gE-MzdO6fbgV"
      },
      "execution_count": null,
      "outputs": []
    },
    {
      "cell_type": "markdown",
      "source": [
        "Write a program that computes the net amount of a bank account based on a transaction log from console input. The transaction log / sample input is in the format as shown below:\n",
        "\n",
        "Input\n",
        "log_message = D:100 W:10\n",
        "Output\n",
        "90\n",
        "Input\n",
        "Log_message = D:100 W:200 D:400\n",
        "Output\n",
        "300 (100 - 200 + 400 = 300)"
      ],
      "metadata": {
        "id": "qzp8KV2UH5EE"
      }
    },
    {
      "cell_type": "code",
      "source": [
        "log_msg = input(\"Enter the log_msg: \")\n",
        "\n",
        "log_items = log_msg.split()\n",
        "\n",
        "total_amount = 0\n",
        "\n",
        "for item in log_items:\n",
        "    key, value = item.split(\":\")\n",
        "    if key == 'D':\n",
        "        total_amount += int(value)\n",
        "    elif key == 'W':\n",
        "        total_amount -= int(value)\n",
        "\n",
        "print(total_amount)"
      ],
      "metadata": {
        "colab": {
          "base_uri": "https://localhost:8080/"
        },
        "id": "0HUy0KgmIGXq",
        "outputId": "a0982ab4-d412-413c-d12c-24d8a920fe4e"
      },
      "execution_count": 4,
      "outputs": [
        {
          "output_type": "stream",
          "name": "stdout",
          "text": [
            "Enter the log_msg: D:100 W:10\n",
            "90\n"
          ]
        }
      ]
    },
    {
      "cell_type": "markdown",
      "source": [
        "Write a program that prompts the user to input number of calls and calculate the monthly telephone bills as per the following rule:\n",
        "\n",
        "● Minimum Rs. 200 for up to 100 calls.\n",
        "\n",
        "● Plus Rs. 0.60 per call for next 50 calls.\n",
        "\n",
        "● Plus Rs. 0.50 per call for next 50 calls.\n",
        "\n",
        "● Plus Rs. 0.40 per call for any call beyond 200 calls."
      ],
      "metadata": {
        "id": "hi79fGFOIf9B"
      }
    },
    {
      "cell_type": "code",
      "source": [
        "n=int(input('Enter number of calls: '))\n",
        "\n",
        "min_amount=200\n",
        "if n<=100:\n",
        "    amount=200\n",
        "elif n>100 and n<=150:\n",
        "    amount=min_amount+(0.60*n)\n",
        "elif n>150 and n<=200:\n",
        "    amount=min_amount+(0.50*n)\n",
        "else:\n",
        "    amount=min_amount+(0.40*n)\n",
        "            \n",
        "print(amount)"
      ],
      "metadata": {
        "colab": {
          "base_uri": "https://localhost:8080/"
        },
        "id": "un6sCh6yIoOy",
        "outputId": "cf852f15-0d18-45c8-892a-4af0b48d7291"
      },
      "execution_count": 5,
      "outputs": [
        {
          "output_type": "stream",
          "name": "stdout",
          "text": [
            "Enter number of calls: 140\n",
            "284.0\n"
          ]
        }
      ]
    },
    {
      "cell_type": "markdown",
      "source": [
        "# New Section"
      ],
      "metadata": {
        "id": "8UI9ZSKGI4Fi"
      }
    },
    {
      "cell_type": "markdown",
      "source": [
        "Problem Statement 01\n",
        "\n",
        "Given a list of numbers\n",
        "\n",
        "filenames = ['view.jpg', 'bear.jpg', 'ball.png']\n",
        "\n",
        "Write a program Add the file 'phone.jpg' to this list at the beginning. Then delete the file 'ball.png'. In response, print the filenames list to the console.\n",
        "\n",
        "Expected Output\n",
        "\n",
        "['phone.jpg', 'view.jpg', 'bear.jpg']\n",
        "\n"
      ],
      "metadata": {
        "id": "rQFnwEaGKMrS"
      }
    },
    {
      "cell_type": "code",
      "source": [
        "filenames = ['view.jpg','bear.jpg','ball.png']\n",
        "filenames.insert(0,'phone.jpg')\n",
        "filenames.pop()\n",
        "print(filenames)\n",
        "\n"
      ],
      "metadata": {
        "colab": {
          "base_uri": "https://localhost:8080/"
        },
        "id": "pYA1e2E8KUcx",
        "outputId": "57bda65d-9699-4e71-9475-7d11234c9b56"
      },
      "execution_count": 8,
      "outputs": [
        {
          "output_type": "stream",
          "name": "stdout",
          "text": [
            "['phone.jpg', 'view.jpg', 'bear.jpg']\n"
          ]
        }
      ]
    },
    {
      "cell_type": "markdown",
      "source": [
        "Problem Statement 02 Given a list of numbers\n",
        "\n",
        "L = [1,2,3,4,5,6,7,8,9,10]\n",
        "\n",
        "Write a program to find the maximum,minimum and average element in a given list without using m\n",
        "\n"
      ],
      "metadata": {
        "id": "kFoLRz7rKk4e"
      }
    },
    {
      "cell_type": "code",
      "source": [
        "L = [1,2,3,4,5,6,7,8,9,10]\n",
        "print(max(L))\n",
        "print(min(L))\n",
        "l=len(L)\n",
        "sum=0\n",
        "for i in L:\n",
        "  sum+=i\n",
        "print('avg of list is:',sum/l)"
      ],
      "metadata": {
        "colab": {
          "base_uri": "https://localhost:8080/"
        },
        "id": "qscgn0oyKoiD",
        "outputId": "9dc13ccb-337e-40de-82eb-07e677cb5ef9"
      },
      "execution_count": 9,
      "outputs": [
        {
          "output_type": "stream",
          "name": "stdout",
          "text": [
            "10\n",
            "1\n",
            "avg of list is: 5.5\n"
          ]
        }
      ]
    },
    {
      "cell_type": "markdown",
      "source": [
        "Problem Statement 01\n",
        "\n",
        "Given a list\n",
        "L : [1,1,1,1,2,2,3,3,3,3,4,5]\n",
        "Write a program to print only unique elements\n",
        "\n",
        "Note : Don't convert List to Set\n",
        "Expected Output\n",
        "\n",
        "Unique List : [1, 2, 3, 4, 5]\n",
        "\n"
      ],
      "metadata": {
        "id": "lhQppYIyKtJj"
      }
    },
    {
      "cell_type": "code",
      "source": [
        "L = [1,1,1,1,2,2,3,3,3,3,4,5]\n",
        "l=[]\n",
        "for ele in L:\n",
        "  if ele not in l:\n",
        "    l.append(ele)\n",
        "print(l)"
      ],
      "metadata": {
        "colab": {
          "base_uri": "https://localhost:8080/"
        },
        "id": "DWsBhnS1K06P",
        "outputId": "c0b6af56-ea3e-440f-f06c-5c1e4f9a05d1"
      },
      "execution_count": 10,
      "outputs": [
        {
          "output_type": "stream",
          "name": "stdout",
          "text": [
            "[1, 2, 3, 4, 5]\n"
          ]
        }
      ]
    },
    {
      "cell_type": "markdown",
      "source": [
        "Problem Statement 02\n",
        "\n",
        "Given a list\n",
        "\n",
        "L = [1,2,3,4, [4,3] ]\n",
        "\n",
        "Check if the given number exist in the inner list\n",
        "\n"
      ],
      "metadata": {
        "id": "WY_qxngpK7ph"
      }
    },
    {
      "cell_type": "code",
      "source": [
        "L = [1, 2, 3, 4, [4, 5]]\n",
        "n = int(input('Enter the number: '))\n",
        "found = False\n",
        "for item in L:\n",
        "  if isinstance(item, list):\n",
        "    if n in item:\n",
        "      found = True\n",
        "      break\n",
        "    else:\n",
        "        if item == n:\n",
        "          found = True\n",
        "          break\n",
        "if found:\n",
        "  print('Element found')\n",
        "else:\n",
        "  print('Element not found')"
      ],
      "metadata": {
        "colab": {
          "base_uri": "https://localhost:8080/"
        },
        "id": "ijpqjbSGK-pH",
        "outputId": "f915bcb4-7b9c-4848-baf2-1e115b7e30c9"
      },
      "execution_count": 12,
      "outputs": [
        {
          "output_type": "stream",
          "name": "stdout",
          "text": [
            "Enter the number: 5\n",
            "Element found\n"
          ]
        }
      ]
    },
    {
      "cell_type": "markdown",
      "source": [
        "Problem Statement 01\n",
        "\n",
        "Given a list of lists\n",
        "numbers_nested = [[1,-1,2],[0,-5,3,5,-2],[1,2,1,0,-2,-3]]\n",
        "\n",
        "Write a program to grab only positive numbers in each nested list and put that in a new list\n",
        "Expected Output\n",
        "\n",
        "[1, 2, 3, 5, 1, 2, 1]"
      ],
      "metadata": {
        "id": "h3z9PMPlLh-T"
      }
    },
    {
      "cell_type": "code",
      "source": [
        "def flatten_list(lst):\n",
        "    flattened = []\n",
        "    while lst:\n",
        "        item = lst.pop(0)\n",
        "        if type(item) == list:\n",
        "            lst = item + lst\n",
        "        else:\n",
        "            flattened.append(item)\n",
        "    return flattened\n",
        "\n",
        "nested_list = [[1, -1, 2], [0, -5, 3, 5, -2], [1, 2, 1, 0, -2, -3]]\n",
        "flattened_list = flatten_list(nested_list)\n",
        "print(flattened_list)\n",
        "\n",
        "positive_list = []\n",
        "for i in flattened_list:\n",
        "    if isinstance(i, int) and i > 0:\n",
        "        positive_list.append(i)\n",
        "print(positive_list)\n"
      ],
      "metadata": {
        "colab": {
          "base_uri": "https://localhost:8080/"
        },
        "id": "tA4MhQpGLpVn",
        "outputId": "76ba720a-0d9f-4d51-dfd9-ab5e434d2c1f"
      },
      "execution_count": 33,
      "outputs": [
        {
          "output_type": "stream",
          "name": "stdout",
          "text": [
            "[[1, -1, 2], [0, -5, 3, 5, -2], [1, 2, 1, 0, -2, -3]]\n",
            "[]\n"
          ]
        }
      ]
    },
    {
      "cell_type": "markdown",
      "source": [
        "Problem Statement 02\n",
        "\n",
        "Given a list of lists\n",
        "\n",
        "L = [ [1,2,3] , [ 4,5,6,3 ], [-1,-2,-10,5,8] ]\n",
        "\n",
        "Write a program to to print the average sum of value from each inner list and print the sum of each average\n",
        "\n",
        "Expected Output\n",
        "\n",
        "6/3 + 18/4 + 0 ⇒ 2 + 4.5 ⇒ 6.5\n",
        "\n"
      ],
      "metadata": {
        "id": "o54iaVjhOEDd"
      }
    },
    {
      "cell_type": "code",
      "source": [
        "L = [[1, 2, 3], [4, 5, 6, 3], [-1, -2, -10, 5, 8]]\n",
        "sum1 = sum(sum(sublist) / len(sublist) if len(sublist) != 0 else 0 for sublist in L)\n",
        "print(sum1)"
      ],
      "metadata": {
        "id": "J2VekpJWOGUv"
      },
      "execution_count": null,
      "outputs": []
    }
  ]
}