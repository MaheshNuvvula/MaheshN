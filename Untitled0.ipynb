{
  "nbformat": 4,
  "nbformat_minor": 0,
  "metadata": {
    "colab": {
      "provenance": [],
      "authorship_tag": "ABX9TyNoOyCqaxK5oTw+CwtvHLsh",
      "include_colab_link": true
    },
    "kernelspec": {
      "name": "python3",
      "display_name": "Python 3"
    },
    "language_info": {
      "name": "python"
    }
  },
  "cells": [
    {
      "cell_type": "markdown",
      "metadata": {
        "id": "view-in-github",
        "colab_type": "text"
      },
      "source": [
        "<a href=\"https://colab.research.google.com/github/MaheshNuvvula/MaheshN/blob/main/Untitled0.ipynb\" target=\"_parent\"><img src=\"https://colab.research.google.com/assets/colab-badge.svg\" alt=\"Open In Colab\"/></a>"
      ]
    },
    {
      "cell_type": "code",
      "source": [],
      "metadata": {
        "id": "VQAbenVllIIv"
      },
      "execution_count": null,
      "outputs": []
    },
    {
      "cell_type": "markdown",
      "source": [
        "Write a program that takes a integer from keyboard and prints a string according the business logic given below\n",
        "\n",
        "1. For each multiple of 3, Print 'Fizz',\n",
        "\n",
        "2. For each multiple of 5, Print Fuzz\n",
        "\n",
        "3. For each multiple of 3 and 5 Print 'Fizz Buzz"
      ],
      "metadata": {
        "id": "c0VTLTJhGrc1"
      }
    },
    {
      "cell_type": "code",
      "source": [
        "n=int(input('Enter an integer: '))\n",
        "if n%3==0 and n%5==0:\n",
        "    print('Fizz Buzz')\n",
        "elif n%3==0:\n",
        "    print('Fizz')\n",
        "elif n%5==0:\n",
        "    print('Fuzz')\n",
        "else:\n",
        "    print('Nothing Matches')"
      ],
      "metadata": {
        "id": "m9_nsIMytvHT",
        "colab": {
          "base_uri": "https://localhost:8080/"
        },
        "outputId": "6d5b1437-20c7-4fc8-fce6-6114371c1144"
      },
      "execution_count": 1,
      "outputs": [
        {
          "output_type": "stream",
          "name": "stdout",
          "text": [
            "Enter an integer: 15\n",
            "Fizz Buzz\n"
          ]
        }
      ]
    },
    {
      "cell_type": "code",
      "source": [],
      "metadata": {
        "id": "gE-MzdO6fbgV"
      },
      "execution_count": null,
      "outputs": []
    },
    {
      "cell_type": "markdown",
      "source": [
        "Write a program that computes the net amount of a bank account based on a transaction log from console input. The transaction log / sample input is in the format as shown below:\n",
        "\n",
        "Input\n",
        "log_message = D:100 W:10\n",
        "Output\n",
        "90\n",
        "Input\n",
        "Log_message = D:100 W:200 D:400\n",
        "Output\n",
        "300 (100 - 200 + 400 = 300)"
      ],
      "metadata": {
        "id": "qzp8KV2UH5EE"
      }
    },
    {
      "cell_type": "code",
      "source": [
        "log_msg = input(\"Enter the log_msg: \")\n",
        "\n",
        "log_items = log_msg.split()\n",
        "\n",
        "total_amount = 0\n",
        "\n",
        "for item in log_items:\n",
        "    key, value = item.split(\":\")\n",
        "    if key == 'D':\n",
        "        total_amount += int(value)\n",
        "    elif key == 'W':\n",
        "        total_amount -= int(value)\n",
        "\n",
        "print(total_amount)"
      ],
      "metadata": {
        "colab": {
          "base_uri": "https://localhost:8080/"
        },
        "id": "0HUy0KgmIGXq",
        "outputId": "a0982ab4-d412-413c-d12c-24d8a920fe4e"
      },
      "execution_count": 4,
      "outputs": [
        {
          "output_type": "stream",
          "name": "stdout",
          "text": [
            "Enter the log_msg: D:100 W:10\n",
            "90\n"
          ]
        }
      ]
    },
    {
      "cell_type": "markdown",
      "source": [
        "Write a program that prompts the user to input number of calls and calculate the monthly telephone bills as per the following rule:\n",
        "\n",
        "● Minimum Rs. 200 for up to 100 calls.\n",
        "\n",
        "● Plus Rs. 0.60 per call for next 50 calls.\n",
        "\n",
        "● Plus Rs. 0.50 per call for next 50 calls.\n",
        "\n",
        "● Plus Rs. 0.40 per call for any call beyond 200 calls."
      ],
      "metadata": {
        "id": "hi79fGFOIf9B"
      }
    },
    {
      "cell_type": "code",
      "source": [
        "n=int(input('Enter number of calls: '))\n",
        "\n",
        "min_amount=200\n",
        "if n<=100:\n",
        "    amount=200\n",
        "elif n>100 and n<=150:\n",
        "    amount=min_amount+(0.60*n)\n",
        "elif n>150 and n<=200:\n",
        "    amount=min_amount+(0.50*n)\n",
        "else:\n",
        "    amount=min_amount+(0.40*n)\n",
        "            \n",
        "print(amount)"
      ],
      "metadata": {
        "colab": {
          "base_uri": "https://localhost:8080/"
        },
        "id": "un6sCh6yIoOy",
        "outputId": "cf852f15-0d18-45c8-892a-4af0b48d7291"
      },
      "execution_count": 5,
      "outputs": [
        {
          "output_type": "stream",
          "name": "stdout",
          "text": [
            "Enter number of calls: 140\n",
            "284.0\n"
          ]
        }
      ]
    },
    {
      "cell_type": "markdown",
      "source": [
        "# New Section"
      ],
      "metadata": {
        "id": "8UI9ZSKGI4Fi"
      }
    }
  ]
}