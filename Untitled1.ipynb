{
  "nbformat": 4,
  "nbformat_minor": 0,
  "metadata": {
    "colab": {
      "provenance": [],
      "authorship_tag": "ABX9TyOSHvzydkYjdTdkKmRBqoM4",
      "include_colab_link": true
    },
    "kernelspec": {
      "name": "python3",
      "display_name": "Python 3"
    },
    "language_info": {
      "name": "python"
    }
  },
  "cells": [
    {
      "cell_type": "markdown",
      "metadata": {
        "id": "view-in-github",
        "colab_type": "text"
      },
      "source": [
        "<a href=\"https://colab.research.google.com/github/MaheshNuvvula/MaheshN/blob/main/Untitled1.ipynb\" target=\"_parent\"><img src=\"https://colab.research.google.com/assets/colab-badge.svg\" alt=\"Open In Colab\"/></a>"
      ]
    },
    {
      "cell_type": "code",
      "execution_count": null,
      "metadata": {
        "id": "K5PHFsmoHPqw"
      },
      "outputs": [],
      "source": []
    },
    {
      "cell_type": "markdown",
      "source": [
        "Write a Python function to sum all the numbers in a list.\n",
        "Sample List : (8, 2, 3, 0, 7)\n",
        "\n",
        "Expected Output : 20"
      ],
      "metadata": {
        "id": "pVS79mCJHXTQ"
      }
    },
    {
      "cell_type": "code",
      "source": [
        "def summation(list):\n",
        "  sum=0\n",
        "  for i in list:\n",
        "    sum+=i\n",
        "  print(sum)\n",
        "list=(8,2,3,0,7)\n",
        "summation(list)\n"
      ],
      "metadata": {
        "colab": {
          "base_uri": "https://localhost:8080/"
        },
        "id": "klgiA3aGHZsA",
        "outputId": "21733eb8-e2a3-4334-b491-4a8fc8352339"
      },
      "execution_count": 9,
      "outputs": [
        {
          "output_type": "stream",
          "name": "stdout",
          "text": [
            "20\n"
          ]
        }
      ]
    },
    {
      "cell_type": "markdown",
      "source": [
        "Write a Python program to reverse a string.\n",
        "\n",
        "﻿Sample String : \"1234abcd\"\n",
        "Expected Output : \"dcba4321\"\n"
      ],
      "metadata": {
        "id": "f2ybPt1nQyBG"
      }
    },
    {
      "cell_type": "code",
      "source": [
        "def reverse_string(string):\n",
        "    reversed_string = string[::-1]\n",
        "    return reversed_string\n",
        "\n",
        "\n",
        "sample_string = \"1234abcd\"\n",
        "reversed_string = reverse_string(sample_string)\n",
        "print(reversed_string)\n"
      ],
      "metadata": {
        "colab": {
          "base_uri": "https://localhost:8080/"
        },
        "id": "Ke9D_7oQQ9sg",
        "outputId": "083937cf-dd63-4e6d-da30-0b263bbbaa54"
      },
      "execution_count": 12,
      "outputs": [
        {
          "output_type": "stream",
          "name": "stdout",
          "text": [
            "dcba4321\n"
          ]
        }
      ]
    },
    {
      "cell_type": "markdown",
      "source": [
        "Write a Python function that accepts a string and calculate the number of upper case letters and lower case letters.\n",
        "\n",
        "﻿Sample String : 'The quick Brow Fox'\n",
        "\n",
        "Expected Output :\n",
        "No. of Upper case characters : 3\n",
        "No. of Lower case Characters : 12"
      ],
      "metadata": {
        "id": "itnA1kyhWJEL"
      }
    },
    {
      "cell_type": "code",
      "source": [
        "def count_upper_lower(input_string):\n",
        "    upper_count = 0\n",
        "    lower_count = 0\n",
        "\n",
        "    for char in input_string:\n",
        "        if char.isupper():\n",
        "            upper_count += 1\n",
        "        elif char.islower():\n",
        "            lower_count += 1\n",
        "\n",
        "    return upper_count, lower_count\n",
        "\n",
        "sample_string = 'The quick Brow Fox'\n",
        "upper, lower = count_upper_lower(sample_string)\n",
        "print(\"No. of Upper case characters:\", upper)\n",
        "print(\"No. of Lower case characters:\", lower)\n"
      ],
      "metadata": {
        "id": "W_LPyKeFXH8c"
      },
      "execution_count": null,
      "outputs": []
    }
  ]
}